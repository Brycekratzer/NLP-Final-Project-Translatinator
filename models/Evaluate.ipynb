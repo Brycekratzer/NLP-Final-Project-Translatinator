{
 "cells": [
  {
   "cell_type": "markdown",
   "metadata": {},
   "source": [
    "# Evaluation of FineTuned Model vs Base MarianMT Model"
   ]
  },
  {
   "cell_type": "markdown",
   "metadata": {},
   "source": [
    "In this notebook we will compare translations using the English-Spanish Kaggle Dataset."
   ]
  },
  {
   "cell_type": "code",
   "execution_count": 89,
   "metadata": {},
   "outputs": [],
   "source": [
    "import pandas as pd \n",
    "import numpy as np \n",
    "import torch\n",
    "from torch.utils.data import Dataset, DataLoader\n",
    "import tqdm as tqdm\n",
    "from evaluate import load\n",
    "from transformers import MarianMTModel, MarianTokenizer, MarianConfig"
   ]
  },
  {
   "cell_type": "code",
   "execution_count": 90,
   "metadata": {},
   "outputs": [],
   "source": [
    "data_file = pd.read_csv('../data/English-Spanish-Kaggle.csv')"
   ]
  },
  {
   "cell_type": "markdown",
   "metadata": {},
   "source": [
    "Removing duplicate phrases from dataset"
   ]
  },
  {
   "cell_type": "code",
   "execution_count": 91,
   "metadata": {},
   "outputs": [],
   "source": [
    "df_clean = data_file.drop_duplicates(subset=['english'], keep='first', ignore_index=True)"
   ]
  },
  {
   "cell_type": "code",
   "execution_count": null,
   "metadata": {},
   "outputs": [],
   "source": []
  },
  {
   "cell_type": "code",
   "execution_count": 92,
   "metadata": {},
   "outputs": [
    {
     "data": {
      "text/html": [
       "<div>\n",
       "<style scoped>\n",
       "    .dataframe tbody tr th:only-of-type {\n",
       "        vertical-align: middle;\n",
       "    }\n",
       "\n",
       "    .dataframe tbody tr th {\n",
       "        vertical-align: top;\n",
       "    }\n",
       "\n",
       "    .dataframe thead th {\n",
       "        text-align: right;\n",
       "    }\n",
       "</style>\n",
       "<table border=\"1\" class=\"dataframe\">\n",
       "  <thead>\n",
       "    <tr style=\"text-align: right;\">\n",
       "      <th></th>\n",
       "      <th>english</th>\n",
       "      <th>spanish</th>\n",
       "    </tr>\n",
       "  </thead>\n",
       "  <tbody>\n",
       "    <tr>\n",
       "      <th>0</th>\n",
       "      <td>Go.</td>\n",
       "      <td>Ve.</td>\n",
       "    </tr>\n",
       "    <tr>\n",
       "      <th>1</th>\n",
       "      <td>Hi.</td>\n",
       "      <td>Hola.</td>\n",
       "    </tr>\n",
       "    <tr>\n",
       "      <th>2</th>\n",
       "      <td>Run!</td>\n",
       "      <td>¡Corre!</td>\n",
       "    </tr>\n",
       "    <tr>\n",
       "      <th>3</th>\n",
       "      <td>Run.</td>\n",
       "      <td>Corred.</td>\n",
       "    </tr>\n",
       "    <tr>\n",
       "      <th>4</th>\n",
       "      <td>Who?</td>\n",
       "      <td>¿Quién?</td>\n",
       "    </tr>\n",
       "    <tr>\n",
       "      <th>...</th>\n",
       "      <td>...</td>\n",
       "      <td>...</td>\n",
       "    </tr>\n",
       "    <tr>\n",
       "      <th>102899</th>\n",
       "      <td>There are four main causes of alcohol-related ...</td>\n",
       "      <td>Hay cuatro causas principales de muertes relac...</td>\n",
       "    </tr>\n",
       "    <tr>\n",
       "      <th>102900</th>\n",
       "      <td>There are mothers and fathers who will lie awa...</td>\n",
       "      <td>Hay madres y padres que se quedan despiertos d...</td>\n",
       "    </tr>\n",
       "    <tr>\n",
       "      <th>102901</th>\n",
       "      <td>A carbon footprint is the amount of carbon dio...</td>\n",
       "      <td>Una huella de carbono es la cantidad de contam...</td>\n",
       "    </tr>\n",
       "    <tr>\n",
       "      <th>102902</th>\n",
       "      <td>Since there are usually multiple websites on a...</td>\n",
       "      <td>Como suele haber varias páginas web sobre cual...</td>\n",
       "    </tr>\n",
       "    <tr>\n",
       "      <th>102903</th>\n",
       "      <td>If you want to sound like a native speaker, yo...</td>\n",
       "      <td>Si quieres sonar como un hablante nativo, debe...</td>\n",
       "    </tr>\n",
       "  </tbody>\n",
       "</table>\n",
       "<p>102904 rows × 2 columns</p>\n",
       "</div>"
      ],
      "text/plain": [
       "                                                  english  \\\n",
       "0                                                     Go.   \n",
       "1                                                     Hi.   \n",
       "2                                                    Run!   \n",
       "3                                                    Run.   \n",
       "4                                                    Who?   \n",
       "...                                                   ...   \n",
       "102899  There are four main causes of alcohol-related ...   \n",
       "102900  There are mothers and fathers who will lie awa...   \n",
       "102901  A carbon footprint is the amount of carbon dio...   \n",
       "102902  Since there are usually multiple websites on a...   \n",
       "102903  If you want to sound like a native speaker, yo...   \n",
       "\n",
       "                                                  spanish  \n",
       "0                                                     Ve.  \n",
       "1                                                   Hola.  \n",
       "2                                                 ¡Corre!  \n",
       "3                                                 Corred.  \n",
       "4                                                 ¿Quién?  \n",
       "...                                                   ...  \n",
       "102899  Hay cuatro causas principales de muertes relac...  \n",
       "102900  Hay madres y padres que se quedan despiertos d...  \n",
       "102901  Una huella de carbono es la cantidad de contam...  \n",
       "102902  Como suele haber varias páginas web sobre cual...  \n",
       "102903  Si quieres sonar como un hablante nativo, debe...  \n",
       "\n",
       "[102904 rows x 2 columns]"
      ]
     },
     "execution_count": 92,
     "metadata": {},
     "output_type": "execute_result"
    }
   ],
   "source": [
    "df_clean"
   ]
  },
  {
   "cell_type": "markdown",
   "metadata": {},
   "source": [
    "## Import Models"
   ]
  },
  {
   "cell_type": "code",
   "execution_count": 93,
   "metadata": {},
   "outputs": [
    {
     "name": "stderr",
     "output_type": "stream",
     "text": [
      "/opt/anaconda3/envs/NLP_25/lib/python3.12/site-packages/transformers/models/marian/tokenization_marian.py:175: UserWarning: Recommended: pip install sacremoses.\n",
      "  warnings.warn(\"Recommended: pip install sacremoses.\")\n"
     ]
    }
   ],
   "source": [
    "base_model_name = 'Helsinki-NLP/opus-mt-en-es'\n",
    "base_model = MarianMTModel.from_pretrained(base_model_name)\n",
    "tokenizer = MarianTokenizer.from_pretrained(base_model_name)"
   ]
  },
  {
   "cell_type": "code",
   "execution_count": 94,
   "metadata": {},
   "outputs": [
    {
     "data": {
      "text/plain": [
       "<All keys matched successfully>"
      ]
     },
     "execution_count": 94,
     "metadata": {},
     "output_type": "execute_result"
    }
   ],
   "source": [
    "state_dict = torch.load('fine_tuned_en_es.bin', map_location=torch.device('cpu'))\n",
    "config = MarianConfig.from_json_file('config.json')\n",
    "ft_model = MarianMTModel(config=config)\n",
    "ft_model.load_state_dict(state_dict)"
   ]
  },
  {
   "cell_type": "markdown",
   "metadata": {},
   "source": [
    "## Evaluation"
   ]
  },
  {
   "cell_type": "markdown",
   "metadata": {},
   "source": [
    "Here we will "
   ]
  },
  {
   "cell_type": "code",
   "execution_count": 95,
   "metadata": {},
   "outputs": [],
   "source": [
    "def eval_model(model, device, df, bertscore):\n",
    "    model.eval()\n",
    "    all_predictions = []\n",
    "    all_references = []\n",
    "    \n",
    "    with torch.no_grad():\n",
    "        for row in tqdm.tqdm(range(len(df))):\n",
    "            \n",
    "            # Grab phrases from data frame\n",
    "            en_phrase = df['english'][row]\n",
    "            es_ref = df['spanish'][row]\n",
    "            \n",
    "            # Grab tokenized version of phrases and generate translation\n",
    "            inputs = tokenizer([en_phrase], return_tensors='pt')\n",
    "            \n",
    "            # Generate translation from English\n",
    "            trans_ids = model.generate(**inputs)\n",
    "\n",
    "            # Return the untokenized reference and prediction\n",
    "            model_trans = tokenizer.batch_decode(trans_ids, skip_special_tokens=True)[0]\n",
    "            \n",
    "            all_predictions.append(model_trans)\n",
    "            all_references.append(es_ref)\n",
    "    \n",
    "    return bertscore.compute(predictions=all_predictions, references=all_references, device=device, lang='es')"
   ]
  },
  {
   "cell_type": "code",
   "execution_count": 96,
   "metadata": {},
   "outputs": [
    {
     "name": "stderr",
     "output_type": "stream",
     "text": [
      "100%|██████████| 102904/102904 [6:15:09<00:00,  4.57it/s]     \n",
      "100%|██████████| 102904/102904 [7:12:15<00:00,  3.97it/s]     \n"
     ]
    }
   ],
   "source": [
    "bertscore = load(\"bertscore\")\n",
    "ft_model_eval = eval_model(ft_model, torch.device('mps'), df_clean, bertscore=bertscore)\n",
    "base_model_eval = eval_model(base_model, torch.device('mps'), df_clean, bertscore=bertscore)\n"
   ]
  },
  {
   "cell_type": "code",
   "execution_count": 115,
   "metadata": {},
   "outputs": [],
   "source": [
    "ft_recall = np.mean(ft_model_eval['recall']).round(6)\n",
    "base_recall = np.mean(base_model_eval['recall']).round(6)"
   ]
  },
  {
   "cell_type": "code",
   "execution_count": 116,
   "metadata": {},
   "outputs": [],
   "source": [
    "ft_f1 = np.mean(ft_model_eval['f1']).round(6)\n",
    "base_f1 = np.mean(base_model_eval['f1']).round(6)"
   ]
  },
  {
   "cell_type": "code",
   "execution_count": 117,
   "metadata": {},
   "outputs": [],
   "source": [
    "ft_precision = np.mean(ft_model_eval['precision']).round(6)\n",
    "base_precision = np.mean(base_model_eval['precision']).round(6)"
   ]
  },
  {
   "cell_type": "markdown",
   "metadata": {},
   "source": []
  },
  {
   "cell_type": "code",
   "execution_count": 125,
   "metadata": {},
   "outputs": [
    {
     "name": "stdout",
     "output_type": "stream",
     "text": [
      "Fine-Tuned F1: 0.938918\n",
      "Base Model F1: 0.938914\n",
      "F1 Difference: -4e-06\n",
      "\n",
      "Fine-Tuned Precision: 0.940694\n",
      "Base Model Precision: 0.940692\n",
      "Precision Difference: -2e-06\n",
      "\n",
      "Fine-Tuned Recall: 0.937361\n",
      "Base Model Recall: 0.937357\n",
      "Recall Difference: -4e-06\n"
     ]
    }
   ],
   "source": [
    "print(f'Fine-Tuned F1: {ft_f1}')\n",
    "print(f'Base Model F1: {base_f1}')\n",
    "print(f'F1 Difference: {(base_f1 - ft_f1).round(6)}')\n",
    "print('')\n",
    "\n",
    "print(f'Fine-Tuned Precision: {ft_precision}')\n",
    "print(f'Base Model Precision: {base_precision}')\n",
    "print(f'Precision Difference: {(base_precision - ft_precision).round(6)}')\n",
    "print('')\n",
    "\n",
    "print(f'Fine-Tuned Recall: {ft_recall}')\n",
    "print(f'Base Model Recall: {base_recall}')\n",
    "print(f'Recall Difference: {(base_recall - ft_recall).round(6)}')"
   ]
  },
  {
   "cell_type": "code",
   "execution_count": null,
   "metadata": {},
   "outputs": [],
   "source": []
  }
 ],
 "metadata": {
  "kernelspec": {
   "display_name": "NLP_25",
   "language": "python",
   "name": "python3"
  },
  "language_info": {
   "codemirror_mode": {
    "name": "ipython",
    "version": 3
   },
   "file_extension": ".py",
   "mimetype": "text/x-python",
   "name": "python",
   "nbconvert_exporter": "python",
   "pygments_lexer": "ipython3",
   "version": "3.12.2"
  }
 },
 "nbformat": 4,
 "nbformat_minor": 2
}
